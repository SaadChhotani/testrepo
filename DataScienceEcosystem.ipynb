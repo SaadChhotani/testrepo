{
 "cells": [
  {
   "cell_type": "markdown",
   "id": "c8b199c4-5da0-4d87-95d7-8e596f9f8068",
   "metadata": {},
   "source": [
    "# Data Science Tools and Ecosystem"
   ]
  },
  {
   "cell_type": "markdown",
   "id": "36bf2741-e966-4cee-b644-523fba26b51e",
   "metadata": {},
   "source": [
    "\"In this notebook, we provide a comprehensive summary of the Data Science Tools and Ecosystem, exploring a wide range of tools and technologies essential for conducting effective data analysis and unlocking valuable insights.\""
   ]
  },
  {
   "cell_type": "markdown",
   "id": "0ee29727-a1b9-40d8-85aa-a90ca7f85fba",
   "metadata": {},
   "source": [
    "Some of the popular languages that Data Scientists use are:\n",
    "\n",
    "1. Python\n",
    "2. R\n",
    "3. SQL"
   ]
  },
  {
   "cell_type": "markdown",
   "id": "a64ea0a2-d68b-4ef0-9f6c-98e18d30d0e2",
   "metadata": {
    "tags": []
   },
   "source": [
    "Some of the commonly used libraries used by Data Scientists include:\n",
    "\n",
    "1. NumPy: A fundamental library for numerical computing in Python, providing support for large, multi-dimensional arrays and matrices, along with a collection of high-level mathematical functions.\n",
    "\n",
    "2. Pandas: A powerful library for data manipulation and analysis, offering data structures like DataFrames that simplify handling structured data.\n",
    "\n",
    "3. Matplotlib: A widely used plotting library in Python for creating static, interactive, and animated visualizations.\n",
    "\n",
    "4. Scikit-learn: A machine learning library that offers various algorithms for tasks like classification, regression, clustering, and more, built on top of NumPy and SciPy.\n",
    "\n",
    "5. TensorFlow or PyTorch: Popular deep learning libraries used for building and training neural networks and other machine learning models.\n",
    "\n",
    "6. SciPy: A library that builds on NumPy and provides additional functionality for scientific computing, including optimization, integration, interpolation, and more.\n",
    "\n",
    "7. Seaborn: A high-level data visualization library based on Matplotlib, providing a more aesthetically pleasing and informative interface.\n",
    "\n",
    "8. NLTK (Natural Language Toolkit): A library for working with human language data, offering tools for tokenization, stemming, tagging, parsing, and more.\n",
    "\n",
    "9. XGBoost: An efficient and scalable gradient boosting library used for supervised learning tasks like regression, classification, and ranking.\n",
    "\n",
    "10. Statsmodels: A library focused on statistical modeling, providing tools for estimating and interpreting various statistical models.\n",
    "\n",
    "Please note that there are many other useful libraries in the data science ecosystem, but these are some of the most common and widely used ones.\n"
   ]
  },
  {
   "cell_type": "markdown",
   "id": "d365536a-9d76-4017-bf77-ffd82ee36808",
   "metadata": {},
   "source": [
    "| Data Science Tools |\n",
    "|-------------------|\n",
    "| Jupyter Notebook  |\n",
    "| RStudio           |\n",
    "| Visual Studio Code|\n"
   ]
  },
  {
   "cell_type": "markdown",
   "id": "6b3a55fb-e9cd-42ed-8fb9-c67770becbe2",
   "metadata": {},
   "source": [
    "### Below are a few examples of evaluating arithmetic expressions in Python.\n",
    "\n",
    "Arithmetic expressions in Python allow you to perform various mathematical operations. Python supports standard arithmetic operators like addition (+), subtraction (-), multiplication (*), division (/), and more. Let's explore some examples to better understand how these expressions are evaluated:\n",
    "\n",
    "1. Addition:\n",
    "```python\n",
    "result_add = 5 + 3\n",
    "print(result_add)  # Output: 8"
   ]
  },
  {
   "cell_type": "markdown",
   "id": "f556877e-9404-4c7f-ba33-f20276a3084e",
   "metadata": {
    "tags": []
   },
   "source": [
    "result_subtract = 10 - 4\n",
    "print(result_subtract)  # Output: 6"
   ]
  },
  {
   "cell_type": "markdown",
   "id": "7efae308-afbc-49f8-9627-d646d16c33d2",
   "metadata": {
    "tags": []
   },
   "source": [
    "# This is a simple arithmetic expression to multiply then add integers."
   ]
  },
  {
   "cell_type": "code",
   "execution_count": 6,
   "id": "0e6181b5-fa1a-43eb-9349-fe4d50c2ef59",
   "metadata": {
    "tags": []
   },
   "outputs": [
    {
     "name": "stdout",
     "output_type": "stream",
     "text": [
      "17\n"
     ]
    }
   ],
   "source": [
    "result = (3 * 4) + 5\n",
    "print(result)\n"
   ]
  },
  {
   "cell_type": "code",
   "execution_count": 7,
   "id": "47b32e32-ec54-4df9-85ef-54aaae9139e2",
   "metadata": {
    "tags": []
   },
   "outputs": [
    {
     "name": "stdout",
     "output_type": "stream",
     "text": [
      "3.3333333333333335\n"
     ]
    }
   ],
   "source": [
    "# This will convert 200 minutes to hours by dividing by 60.\n",
    "minutes = 200\n",
    "hours = minutes / 60\n",
    "print(hours)\n"
   ]
  },
  {
   "cell_type": "markdown",
   "id": "66d5f582-d782-432b-bf4d-59e8d928b92b",
   "metadata": {},
   "source": [
    "**Objectives:**\n",
    "\n",
    "- List popular languages for Data Science.\n",
    "- Explore commonly used libraries in Data Science.\n",
    "- Introduce examples of evaluating arithmetic expressions in Python.\n",
    "- Convert minutes to hours using basic Python arithmetic.\n",
    "- Summarize the Data Science tools and ecosystem.\n",
    "\n",
    "These objectives provide a foundational understanding of key concepts and tools used in Data Science, enabling you to embark on your journey in the fascinating world of data analysis and exploration.\n"
   ]
  },
  {
   "cell_type": "markdown",
   "id": "460b2ced-a5b3-4c51-94de-ef07822ce085",
   "metadata": {},
   "source": [
    "## Author\n",
    "\n",
    "Saad Chhotani\n"
   ]
  },
  {
   "cell_type": "code",
   "execution_count": null,
   "id": "56e65cd9-f8ea-440d-9e6b-46f27c761610",
   "metadata": {},
   "outputs": [],
   "source": []
  }
 ],
 "metadata": {
  "kernelspec": {
   "display_name": "Python",
   "language": "python",
   "name": "conda-env-python-py"
  },
  "language_info": {
   "codemirror_mode": {
    "name": "ipython",
    "version": 3
   },
   "file_extension": ".py",
   "mimetype": "text/x-python",
   "name": "python",
   "nbconvert_exporter": "python",
   "pygments_lexer": "ipython3",
   "version": "3.7.12"
  }
 },
 "nbformat": 4,
 "nbformat_minor": 5
}
